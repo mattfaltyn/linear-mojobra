{
 "cells": [
  {
   "cell_type": "code",
   "execution_count": 1,
   "id": "c0018cb3-9cb4-4dcf-a25c-25e3ce04fe68",
   "metadata": {},
   "outputs": [],
   "source": [
    "%%python\n",
    "def gauss_jordan(matrix):\n",
    "    rows, cols = matrix.rows, matrix.cols\n",
    "    \n",
    "    # Forward elimination phase to transform the matrix into row echelon form\n",
    "    for i in range(rows):\n",
    "        # Find the maximum element in the current column\n",
    "        max_row = max(range(i, rows), key=lambda r: abs(matrix[r, i]))\n",
    "        \n",
    "        # Swap the current row with the row having the maximum element in current column\n",
    "        matrix.value[i], matrix.value[max_row] = matrix.value[max_row], matrix.value[i]\n",
    "        \n",
    "        # Make the diagonal element 1 and all elements above and below it 0\n",
    "        for j in range(i + 1, rows):\n",
    "            factor = matrix[j, i] / matrix[i, i]\n",
    "            for k in range(i, cols):\n",
    "                matrix[j, k] -= factor * matrix[i, k]\n",
    "                \n",
    "        # Normalize the row\n",
    "        div = matrix[i, i]\n",
    "        for k in range(i, cols):\n",
    "            matrix[i, k] /= div\n",
    "            \n",
    "    # Backward elimination phase to transform the matrix into reduced row echelon form\n",
    "    for i in range(rows - 1, 0, -1):\n",
    "        for j in range(i):\n",
    "            factor = matrix[j, i]\n",
    "            for k in range(cols):\n",
    "                matrix[j, k] -= factor * matrix[i, k]\n",
    "                \n",
    "    return matrix"
   ]
  },
  {
   "cell_type": "code",
   "execution_count": 2,
   "id": "d1f6c23d-2472-4f1c-aaa5-ea7564595639",
   "metadata": {},
   "outputs": [],
   "source": [
    "%%python\n",
    "import numpy as np\n",
    "from timeit import timeit\n",
    "\n",
    "class Matrix:\n",
    "    def __init__(self, value, rows, cols):\n",
    "        self.value = value\n",
    "        self.rows = rows\n",
    "        self.cols = cols\n",
    "        \n",
    "    def __getitem__(self, idxs):\n",
    "        return self.value[idxs[0]][idxs[1]]\n",
    "    \n",
    "    def __setitem__(self, idxs, value):\n",
    "        self.value[idxs[0]][idxs[1]] = value\n",
    "\n",
    "def benchmark_gauss_jordan_python(M, N):\n",
    "    A = Matrix(list(np.random.rand(M, N)), M, N)\n",
    "    secs = timeit(lambda: gauss_jordan(A), number=2)/2\n",
    "    gflops = ((2*M*N*(M+N))/secs) / 1e9\n",
    "    print(gflops, \"GFLOP/s\")\n",
    "    return gflops"
   ]
  },
  {
   "cell_type": "code",
   "execution_count": 3,
   "id": "eb92c5cb-acd9-4245-b22d-abc1b658202f",
   "metadata": {},
   "outputs": [
    {
     "name": "stdout",
     "output_type": "stream",
     "text": [
      "0.009171268860225533 GFLOP/s\n"
     ]
    }
   ],
   "source": [
    "python_gflops = benchmark_gauss_jordan_python(128, 128).to_float64()"
   ]
  },
  {
   "cell_type": "code",
   "execution_count": 4,
   "id": "38d04af5-c78f-43ee-aa58-afd67dcc6619",
   "metadata": {},
   "outputs": [],
   "source": [
    "#|code-fold: true\n",
    "#|code-summary: \"Import utilities and define `Matrix` (click to show/hide)\"\n",
    "\n",
    "from benchmark import Benchmark\n",
    "from sys.intrinsics import strided_load\n",
    "from utils.list import VariadicList\n",
    "from math import div_ceil, min\n",
    "from memory import memset_zero\n",
    "from memory.unsafe import DTypePointer\n",
    "from random import rand, random_float64\n",
    "from sys.info import simdwidthof\n",
    "from runtime.llcl import Runtime\n",
    "from math import abs"
   ]
  },
  {
   "cell_type": "code",
   "execution_count": null,
   "id": "4638cb7d-ba40-4e87-8cda-ae66d33c6877",
   "metadata": {},
   "outputs": [
    {
     "name": "stderr",
     "output_type": "stream",
     "text": [
      "error: The Mojo REPL has crashed and attempted recovery. If the REPL behaves inconsistently, please restart to ensure correct behavior.\n",
      "expression failed to parse (no further compiler diagnostics)"
     ]
    }
   ],
   "source": [
    "fn matrix_getitem(self: object, i: Int, j: Int) raises -> Float64:\n",
    "    return self.value[i][j]\n",
    "\n",
    "fn matrix_setitem(self: object, i: object, value: object) raises -> object:\n",
    "    self.value[i] = value\n",
    "    return None\n",
    "\n",
    "fn matrix_append(self: object, value: object) raises -> object:\n",
    "    self.value.append(value)\n",
    "    return None\n",
    "\n",
    "fn matrix_init(rows: Int, cols: Int) raises -> object:\n",
    "    let value = object([])\n",
    "    return object(\n",
    "        Attr(\"value\", value), Attr(\"__getitem__\", matrix_getitem), Attr(\"__setitem__\", matrix_setitem), \n",
    "        Attr(\"rows\", rows), Attr(\"cols\", cols), Attr(\"append\", matrix_append),\n",
    "    )\n",
    "\n",
    "def gauss_jordan(matrix: object) -> object:\n",
    "    let rows = matrix.rows\n",
    "    let cols = matrix.cols\n",
    "    \n",
    "    for i in range(rows):\n",
    "        let max_row = i\n",
    "        for r in range(i, rows):\n",
    "            if abs(matrix_getitem(matrix, r, i)) > abs(matrix_getitem(matrix, max_row, i)):\n",
    "                max_row = r\n",
    "        \n",
    "        # Swap the current row with the row having the maximum element in current column\n",
    "        matrix.value[i], matrix.value[max_row] = matrix.value[max_row], matrix.value[i]\n",
    "        \n",
    "        # Make the diagonal element 1 and all elements above and below it 0\n",
    "        for j in range(i + 1, rows):\n",
    "            let factor = matrix_getitem(matrix, j, i) / matrix_getitem(matrix, i, i)\n",
    "            for k in range(i, cols):\n",
    "                matrix.value[j][k] -= factor * matrix_getitem(matrix, i, k)\n",
    "                \n",
    "        # Normalize the row\n",
    "        let div = matrix_getitem(matrix, i, i)\n",
    "        for k in range(i, cols):\n",
    "            matrix.value[i][k] /= div\n",
    "            \n",
    "    # Backward elimination phase to transform the matrix into reduced row echelon form\n",
    "    for i in range(rows - 1, 0, -1):\n",
    "        for j in range(i):\n",
    "            let factor = matrix_getitem(matrix, j, i)\n",
    "            for k in range(cols):\n",
    "                matrix.value[j][k] -= factor * matrix_getitem(matrix, i, k)\n",
    "                \n",
    "    return matrix\n",
    "\n",
    "def benchmark_gauss_jordan_untyped(M: Int, N: Int, python_gflops: Float64):\n",
    "    A = matrix_init(M, N)\n",
    "    for i in range(M):\n",
    "        a_row = object([])\n",
    "        for j in range(N):\n",
    "            a_row.append(random_float64(-5, 5))\n",
    "        A.append(a_row)\n",
    "\n",
    "    @parameter\n",
    "    fn test_fn():\n",
    "        try:\n",
    "            _ = gauss_jordan(A)\n",
    "        except:\n",
    "            pass\n",
    "\n",
    "    let secs = Float64(Benchmark().run[test_fn]()) / 1_000_000_000\n",
    "    _ = A\n",
    "    let gflops = ((2*M*N*(M+N))/secs) / 1e9\n",
    "    let speedup : Float64 = gflops / python_gflops\n",
    "    print(gflops, \"GFLOP/s, a\", speedup.value, \"x speedup over Python\")\n"
   ]
  },
  {
   "cell_type": "code",
   "execution_count": null,
   "id": "35547208-a5a9-42c4-9a45-420a6df0e3f5",
   "metadata": {},
   "outputs": [],
   "source": [
    "#| CHECK: GFLOP/s\n",
    "benchmark_gauss_jordan_untyped(128, 128, python_gflops)"
   ]
  }
 ],
 "metadata": {
  "kernelspec": {
   "display_name": "Mojo",
   "language": "mojo",
   "name": "mojo-jupyter-kernel"
  },
  "language_info": {
   "codemirror_mode": {
    "name": "mojo"
   },
   "file_extension": ".mojo",
   "mimetype": "text/x-mojo",
   "name": "mojo"
  }
 },
 "nbformat": 4,
 "nbformat_minor": 5
}
